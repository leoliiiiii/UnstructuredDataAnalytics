{
 "cells": [
  {
   "cell_type": "markdown",
   "metadata": {},
   "source": [
    "# Unstructured Data Analytics HW2\n",
    "\n",
    "Name: Zhihan Li\n",
    "\n",
    "Andrew ID: zhihanli\n",
    "\n",
    "Collaborators (if none, say \"none\"; do *not* leave this blank): none\n",
    "\n",
    "Reminder: you should not be sharing code."
   ]
  },
  {
   "cell_type": "markdown",
   "metadata": {},
   "source": [
    "## Question 1: Clustering emails using Gaussian Mixture Models [50 pts]"
   ]
  },
  {
   "cell_type": "markdown",
   "metadata": {},
   "source": [
    "For this problem, we will be analyzing emails taken from the [Enron Email Dataset](https://www.cs.cmu.edu/~enron/). We have already curated the data for you in the `data/enron` directory, with one file per email (so there is no need to redownload the dataset as it is already included in this homework zip archive). The dataset includes a combination of \"spam\" and \"ham\" emails. Spam emails are unsolicited messages intended to sell a product or scam users into providing personal information, while ham emails represent everything that is not spam.\n",
    "\n",
    "The language used in spam emails tends to be considerably different from typical business emails. Most spam filters leverage this difference in word frequencies to detect spam as it arrives and filter it out of email inboxes. We will use Gaussian Mixture Models (GMMs) to cluster the emails and attempt to identify groups of emails which are likely to be spam."
   ]
  },
  {
   "cell_type": "markdown",
   "metadata": {},
   "source": [
    "### Part A: Construct a list of processed documents [10 points]"
   ]
  },
  {
   "cell_type": "markdown",
   "metadata": {},
   "source": [
    "Provided below is a function that returns a document present in a file given a filename. The function performs some preprocessing to (1) remove punctuation, (2),(3) remove whitespace and (4) lowercase all words. Using the `make_word_list` function, construct a list of processed documents."
   ]
  },
  {
   "cell_type": "code",
   "execution_count": 1,
   "metadata": {},
   "outputs": [],
   "source": [
    "import re\n",
    "import string\n",
    "import codecs\n",
    "\n",
    "def make_word_list(path):\n",
    "    \n",
    "    with codecs.open(path, \"r\", encoding='utf-8', errors='ignore') as f:\n",
    "        corpus_text = f.read()\n",
    "\n",
    "    for c in string.punctuation:\n",
    "        corpus_text = corpus_text.replace(c, \"\")  # -- (1)\n",
    "    \n",
    "    text = re.sub(r'\\S*\\d\\S*', '', corpus_text) # -- (2)\n",
    "    text = re.sub(r'[^\\w\\s]', '', text)         # -- (3)\n",
    "    \n",
    "    text = text.lower().split()           # -- (4)         \n",
    "    \n",
    "    li = []\n",
    "    for token in text:\n",
    "        li.append(token)\n",
    "\n",
    "    return \" \".join(li)"
   ]
  },
  {
   "cell_type": "code",
   "execution_count": 2,
   "metadata": {},
   "outputs": [],
   "source": [
    "########################################################################\n",
    "######################### Write your code here #########################\n",
    "########################################################################\n",
    "import glob\n",
    "processed_docs = []\n",
    "for path in glob.glob('./data/enron/*.txt'):\n",
    "    processed_docs.append(make_word_list(path))"
   ]
  },
  {
   "cell_type": "markdown",
   "metadata": {},
   "source": [
    "### Part B: Construct a document matrix [10 points]"
   ]
  },
  {
   "cell_type": "markdown",
   "metadata": {},
   "source": [
    "Next, construct a document matrix `X` as a matrix of [TF-IDF](https://en.wikipedia.org/wiki/Tf%E2%80%93idf) features for each document. TF-IDF features encode information about the word frequency within a document, weighted by the frequency of the same word for corpus as a whole.\n",
    "\n",
    "   - Use the `TfidfVectorizer` from [scikit-learn](http://scikit-learn.org/stable/modules/generated/sklearn.feature_extraction.text.TfidfVectorizer.html) to create the document matrix `X`.\n",
    "   - Set `min_df=50`; this drops words that don't occur in at least 50 documents.\n",
    "   - Set `stop_words=\"english\"` and `max_df=0.8` to filter out stop-words.\n",
    "   - Print the number of unique words in the vocabulary Hint: Look for the `vocabulary_` attribute in the `TfidfVectorizer` object after fitting the vectorizer to the data set. The vocabulary will also be needed in part (d)."
   ]
  },
  {
   "cell_type": "code",
   "execution_count": 3,
   "metadata": {},
   "outputs": [
    {
     "name": "stdout",
     "output_type": "stream",
     "text": [
      "1680\n"
     ]
    }
   ],
   "source": [
    "########################################################################\n",
    "######################### Write your code here #########################\n",
    "########################################################################\n",
    "from sklearn.feature_extraction.text import TfidfVectorizer\n",
    "\n",
    "tfidf = TfidfVectorizer(min_df=50, stop_words=\"english\", max_df=0.8)\n",
    "X = tfidf.fit_transform(processed_docs)\n",
    "print(len(tfidf.vocabulary_))"
   ]
  },
  {
   "cell_type": "markdown",
   "metadata": {},
   "source": [
    "### Part C: Perform Clustering [10 points]"
   ]
  },
  {
   "cell_type": "markdown",
   "metadata": {},
   "source": [
    "Perform clustering on the document matrix `X` using GMMs. \n",
    "- Use the `GaussianMixture` module from [scikit-learn](http://scikit-learn.org/stable/modules/generated/sklearn.mixture.GaussianMixture.html) to cluster the documents.\n",
    "- Set the number of clusters (mixture components) to 3.\n",
    "- Print the number of documents assigned to each cluster."
   ]
  },
  {
   "cell_type": "code",
   "execution_count": 4,
   "metadata": {},
   "outputs": [
    {
     "name": "stdout",
     "output_type": "stream",
     "text": [
      "cluster 0 : 2334\n",
      "cluster 1 : 915\n",
      "cluster 2 : 1922\n"
     ]
    }
   ],
   "source": [
    "########################################################################\n",
    "######################### Write your code here #########################\n",
    "########################################################################\n",
    "from sklearn.mixture import GaussianMixture\n",
    "\n",
    "gmm = GaussianMixture(n_components=3, random_state=0)\n",
    "gmm.fit(X.toarray())\n",
    "cluster_assignments = gmm.predict(X.toarray())\n",
    "for i in range(3):\n",
    "    cluster_size = sum([1 * (c == i) for c in cluster_assignments])\n",
    "    print(\"cluster\", i, \":\", cluster_size)"
   ]
  },
  {
   "cell_type": "markdown",
   "metadata": {},
   "source": [
    "### Part D: Characterize the clusters [10 points]"
   ]
  },
  {
   "cell_type": "markdown",
   "metadata": {},
   "source": [
    "Now, we will attempt to characterize the clusters based on the frequency of spam-relevant words. \n",
    "- Select 3 \"spammy\" words from the vocabulary that you expect to occur frequently in spam emails and less frequently in normal business emails (e.g., 'click', 'www', 'offer'). Construct a list, `spam_indices`, storing the indices of the spammy words you selected in the vocabulary generated by `TfidfVectorizer`.\n",
    "- Select 3 \"hammy\" words from the vocabulary you think will occur frequently in business emails and infrequently in spam emails (e.g., 'meeting', 'attached', 'review'). Construct a list, `ham_indices`, storing the indices of the hammy words you selected in the vocabulary generated by `TfidfVectorizer`.\n",
    "- Use the function provided below, `plot_spam_words_by_cluster`, to plot the average TF-IDF features for your selected spammy words and hammy words for each cluster. The function takes the following parameters:\n",
    "    - `X` is a matrix of TF-IDF features (rows index documents, columns index terms).\n",
    "    - `predicted` is predicted cluster assignments returned by `GaussianMixture.predict()`\n",
    "    - `n_clusters` is the number of clusters. This should match the number of clusters from your GMM.\n",
    "    - `spam_indices` is a list of indices of spammy words in the vocabulary.\n",
    "    - `ham_indices` is a list of indices of hammy (typical business) words in the vocabulary."
   ]
  },
  {
   "cell_type": "code",
   "execution_count": 5,
   "metadata": {},
   "outputs": [],
   "source": [
    "def plot_spam_words_by_cluster(X, predicted, n_clusters, spam_indices, ham_indices):\n",
    "    import numpy as np\n",
    "    import matplotlib.pyplot as plt\n",
    "    \n",
    "    # Calculate mean TF-IDF features for each cluster\n",
    "    mean_tfidf_spam = []\n",
    "    mean_tfidf_ham = []\n",
    "    for spam in spam_indices:\n",
    "        mean_tfidf_spam.append([])\n",
    "    for ham in ham_indices:\n",
    "        mean_tfidf_ham.append([])\n",
    "    \n",
    "    for i in range(n_clusters):\n",
    "        for j, spam_idx in enumerate(spam_indices):\n",
    "            mean_tfidf_spam[j].append(X[predicted==i, spam_idx].mean())\n",
    "        for j, ham_idx in enumerate(ham_indices):\n",
    "            mean_tfidf_ham[j].append(X[predicted==i, ham_idx].mean())\n",
    "    \n",
    "    # Generate plot\n",
    "    fig, ax = plt.subplots()\n",
    "\n",
    "    ind = np.arange(n_clusters)    # the x locations for the groups\n",
    "    width = 0.10         # the width of the bars\n",
    "\n",
    "    # Plot spam bars\n",
    "    for i, val in enumerate(mean_tfidf_spam):\n",
    "        spam_bar = ax.bar(ind - (len(mean_tfidf_spam)-i-1)*width, val, width, color='r', bottom=0)\n",
    "\n",
    "    # Plot ham bars\n",
    "    for i, val in enumerate(mean_tfidf_ham):\n",
    "        ham_bar = ax.bar(ind + (len(mean_tfidf_ham)-i)*width, val, width,\n",
    "                color='y', bottom=0)\n",
    "\n",
    "    ax.set_title('Mean TF-IDF Features by Cluster for Spam-Relevant Words')\n",
    "    ax.set_xticks(ind + width / 2)\n",
    "    xticklabels = []\n",
    "    for i in range(n_clusters):\n",
    "        xticklabels.append('Cluster ' + str(i) + '\\n(n=' + str((predicted==i).sum()) + ')')\n",
    "    ax.set_xticklabels(xticklabels)\n",
    "\n",
    "    ax.legend((spam_bar[0], ham_bar[0]), ('Spammy words', 'Hammy words'))\n",
    "    ax.autoscale_view()\n",
    "    ax.set_ylabel('Mean TF-IDF')\n",
    "    plt.show()"
   ]
  },
  {
   "cell_type": "code",
   "execution_count": 6,
   "metadata": {
    "scrolled": true
   },
   "outputs": [
    {
     "data": {
      "image/png": "[encoded data removed]",
      "text/plain": [
       "<Figure size 432x288 with 1 Axes>"
      ]
     },
     "metadata": {
      "needs_background": "light"
     },
     "output_type": "display_data"
    }
   ],
   "source": [
    "########################################################################\n",
    "######################### Write your code here #########################\n",
    "########################################################################\n",
    "spam_indices = [tfidf.vocabulary_['click'], tfidf.vocabulary_['www'], tfidf.vocabulary_['offer']]\n",
    "ham_indices = [tfidf.vocabulary_['meeting'], tfidf.vocabulary_['attached'], tfidf.vocabulary_['review']]\n",
    "plot_spam_words_by_cluster(X, cluster_assignments, 3, spam_indices, ham_indices)"
   ]
  },
  {
   "cell_type": "markdown",
   "metadata": {},
   "source": [
    "### Part E: Interpret results [10 points]"
   ]
  },
  {
   "cell_type": "markdown",
   "metadata": {},
   "source": [
    "From the plot generated in part (d), do any of the clusters correspond to spam emails, based on the frequency of spammy and hammy words? Do any of the clusters appear to correspond to typical business emails (ham)? \n",
    "\n",
    "Re-run your analysis with a different choice for the number of clusters in your GMM (e.g., `n_clusters=5` or `n_clusters=2`). How does changing the number of clusters affect your results? Does one choice of `n_clusters` appear better than another for locating clusters of spam emails?"
   ]
  },
  {
   "cell_type": "markdown",
   "metadata": {},
   "source": [
    "*** WRITE YOUR ANSWER HERE IN TEXT ***\n",
    "In part (d), the third cluster should correspond to spam emails due to its high frequency for spammy words and much lower frequency for hammy words. The first cluster might be business emails with hammy words generally having higher frequency than spammy words. \\\n",
    "By changing the number of clusters, for instance to 5, we can see there cluster 2, 3, and 4 should all correspond to spam emails and cluster 0 and 1 should correspond to business emails. They can actually be merged together. n_clusters = 2 gives a better result as it merge spam clusters and ham clusters respectively, leading to two merged clusters."
   ]
  },
  {
   "cell_type": "code",
   "execution_count": 7,
   "metadata": {},
   "outputs": [
    {
     "data": {
      "image/png": "[encoded data removed]",
      "text/plain": [
       "<Figure size 432x288 with 1 Axes>"
      ]
     },
     "metadata": {
      "needs_background": "light"
     },
     "output_type": "display_data"
    },
    {
     "data": {
      "image/png": "[encoded data removed]",
      "text/plain": [
       "<Figure size 432x288 with 1 Axes>"
      ]
     },
     "metadata": {
      "needs_background": "light"
     },
     "output_type": "display_data"
    }
   ],
   "source": [
    "########################################################################\n",
    "######################### Write your code here #########################\n",
    "########################################################################\n",
    "gmm_5 = GaussianMixture(n_components=5, random_state=0)\n",
    "gmm_5.fit(X.toarray())\n",
    "cluster_assignments_5 = gmm_5.predict(X.toarray())\n",
    "plot_spam_words_by_cluster(X, cluster_assignments_5, 5, spam_indices, ham_indices)\n",
    "\n",
    "gmm_2 = GaussianMixture(n_components=2, random_state=0)\n",
    "gmm_2.fit(X.toarray())\n",
    "cluster_assignments_2 = gmm_2.predict(X.toarray())\n",
    "plot_spam_words_by_cluster(X, cluster_assignments_2, 2, spam_indices, ham_indices)"
   ]
  },
  {
   "cell_type": "markdown",
   "metadata": {},
   "source": [
    "## Question 2: Latent \"Purposes\" in Mobile Apps [45 points]\n",
    "\n",
    "\n",
    "Think of Android applications as \"documents\", where \"words\" are the \"permissions\" that each app requests. Each app has a set of latent \"purposes\" (topics); a \"purpose\" may be a specific task (such as taking photographs and uploading them to the internet), and an application may have a mixture of purposes of varying strength.\n",
    "\n",
    "Can we uncover these purposes from a dataset of Android applications and the permissions they request?"
   ]
  },
  {
   "cell_type": "code",
   "execution_count": 8,
   "metadata": {},
   "outputs": [],
   "source": [
    "import numpy as np\n",
    "import matplotlib.pyplot as plt\n",
    "import pandas as pd\n",
    "%matplotlib inline"
   ]
  },
  {
   "cell_type": "markdown",
   "metadata": {},
   "source": [
    "### Part A: Load the data [0 points]"
   ]
  },
  {
   "cell_type": "markdown",
   "metadata": {},
   "source": [
    "The [dataset](http://www.mariofrank.net/andrApps/) contains ~180,000 applications from the Android app store, including each app's name, description and permissions requested. For more about Android app permissions, see [this report](http://www.pewinternet.org/2015/11/10/an-analysis-of-android-app-permissions/).\n",
    "\n",
    "   * Download the data and unzip it into the same folder as this notebook.\n",
    "   * Rename the CSV file to \"android.csv\".\n",
    "   * Run the cells below to load the data into the notebook.\n",
    "\n",
    "This may take up ~2GB of RAM."
   ]
  },
  {
   "cell_type": "code",
   "execution_count": 9,
   "metadata": {},
   "outputs": [],
   "source": [
    "df = pd.read_csv(\"android.csv\", sep=\",\",  thousands=\",\")"
   ]
  },
  {
   "cell_type": "code",
   "execution_count": 10,
   "metadata": {},
   "outputs": [],
   "source": [
    "df[\"Number of ratings\"] = df[\"Number of ratings\"].astype(int) # fix data type\n",
    "df = df.drop_duplicates(subset=[\"App\"]).reset_index(drop=True)"
   ]
  },
  {
   "cell_type": "code",
   "execution_count": 11,
   "metadata": {},
   "outputs": [
    {
     "data": {
      "text/html": [
       "<div>\n",
       "<style scoped>\n",
       "    .dataframe tbody tr th:only-of-type {\n",
       "        vertical-align: middle;\n",
       "    }\n",
       "\n",
       "    .dataframe tbody tr th {\n",
       "        vertical-align: top;\n",
       "    }\n",
       "\n",
       "    .dataframe thead th {\n",
       "        text-align: right;\n",
       "    }\n",
       "</style>\n",
       "<table border=\"1\" class=\"dataframe\">\n",
       "  <thead>\n",
       "    <tr style=\"text-align: right;\">\n",
       "      <th></th>\n",
       "      <th>App</th>\n",
       "      <th>Package</th>\n",
       "      <th>Category</th>\n",
       "      <th>Description</th>\n",
       "      <th>Rating</th>\n",
       "      <th>Number of ratings</th>\n",
       "      <th>Price</th>\n",
       "      <th>Related apps</th>\n",
       "      <th>Dangerous permissions count</th>\n",
       "      <th>Safe permissions count</th>\n",
       "      <th>...</th>\n",
       "      <th>Your personal information : read Browser's history and bookmarks (D)</th>\n",
       "      <th>Your personal information : read calendar events (D)</th>\n",
       "      <th>Your personal information : read contact data (D)</th>\n",
       "      <th>Your personal information : read sensitive log data (D)</th>\n",
       "      <th>Your personal information : read user defined dictionary (D)</th>\n",
       "      <th>Your personal information : retrieve system internal state (S)</th>\n",
       "      <th>Your personal information : set alarm in alarm clock (S)</th>\n",
       "      <th>Your personal information : write Browser's history and bookmarks (D)</th>\n",
       "      <th>Your personal information : write contact data (D)</th>\n",
       "      <th>Your personal information : write to user defined dictionary (S)</th>\n",
       "    </tr>\n",
       "  </thead>\n",
       "  <tbody>\n",
       "    <tr>\n",
       "      <th>0</th>\n",
       "      <td>Google Maps</td>\n",
       "      <td>com.google.android.apps.maps</td>\n",
       "      <td>Travel &amp; Local</td>\n",
       "      <td>Download the latest release of Google Maps, an...</td>\n",
       "      <td>4.4</td>\n",
       "      <td>1438259</td>\n",
       "      <td>$0.00</td>\n",
       "      <td>{com.jsdfproductions.ctatrackerpro, com.alk.co...</td>\n",
       "      <td>17.0</td>\n",
       "      <td>8</td>\n",
       "      <td>...</td>\n",
       "      <td>0</td>\n",
       "      <td>0</td>\n",
       "      <td>1</td>\n",
       "      <td>0</td>\n",
       "      <td>0</td>\n",
       "      <td>0</td>\n",
       "      <td>0</td>\n",
       "      <td>0</td>\n",
       "      <td>1</td>\n",
       "      <td>0</td>\n",
       "    </tr>\n",
       "    <tr>\n",
       "      <th>1</th>\n",
       "      <td>Snowfall Live Wallpaper</td>\n",
       "      <td>fishnoodle.snowfall_free</td>\n",
       "      <td>Personalization</td>\n",
       "      <td>Snowfall Live Wallpaper: Wintertime on your ho...</td>\n",
       "      <td>4.3</td>\n",
       "      <td>18147</td>\n",
       "      <td>$0.00</td>\n",
       "      <td>{colfore.wallpaper.snowfree, com.tabsoft.wallp...</td>\n",
       "      <td>0.0</td>\n",
       "      <td>0</td>\n",
       "      <td>...</td>\n",
       "      <td>0</td>\n",
       "      <td>0</td>\n",
       "      <td>0</td>\n",
       "      <td>0</td>\n",
       "      <td>0</td>\n",
       "      <td>0</td>\n",
       "      <td>0</td>\n",
       "      <td>0</td>\n",
       "      <td>0</td>\n",
       "      <td>0</td>\n",
       "    </tr>\n",
       "    <tr>\n",
       "      <th>2</th>\n",
       "      <td>Aquarium Live Wallpaper</td>\n",
       "      <td>fishnoodle.aquarium_free</td>\n",
       "      <td>Personalization</td>\n",
       "      <td>A beautiful tropical fish tank live wallpaper!...</td>\n",
       "      <td>4.1</td>\n",
       "      <td>62145</td>\n",
       "      <td>$0.00</td>\n",
       "      <td>{com.convisual.lwp.fishometerlite, com.accessl...</td>\n",
       "      <td>0.0</td>\n",
       "      <td>0</td>\n",
       "      <td>...</td>\n",
       "      <td>0</td>\n",
       "      <td>0</td>\n",
       "      <td>0</td>\n",
       "      <td>0</td>\n",
       "      <td>0</td>\n",
       "      <td>0</td>\n",
       "      <td>0</td>\n",
       "      <td>0</td>\n",
       "      <td>0</td>\n",
       "      <td>0</td>\n",
       "    </tr>\n",
       "  </tbody>\n",
       "</table>\n",
       "<p>3 rows × 183 columns</p>\n",
       "</div>"
      ],
      "text/plain": [
       "                       App                       Package         Category  \\\n",
       "0              Google Maps  com.google.android.apps.maps   Travel & Local   \n",
       "1  Snowfall Live Wallpaper      fishnoodle.snowfall_free  Personalization   \n",
       "2  Aquarium Live Wallpaper      fishnoodle.aquarium_free  Personalization   \n",
       "\n",
       "                                         Description  Rating  \\\n",
       "0  Download the latest release of Google Maps, an...     4.4   \n",
       "1  Snowfall Live Wallpaper: Wintertime on your ho...     4.3   \n",
       "2  A beautiful tropical fish tank live wallpaper!...     4.1   \n",
       "\n",
       "   Number of ratings  Price  \\\n",
       "0            1438259  $0.00   \n",
       "1              18147  $0.00   \n",
       "2              62145  $0.00   \n",
       "\n",
       "                                        Related apps  \\\n",
       "0  {com.jsdfproductions.ctatrackerpro, com.alk.co...   \n",
       "1  {colfore.wallpaper.snowfree, com.tabsoft.wallp...   \n",
       "2  {com.convisual.lwp.fishometerlite, com.accessl...   \n",
       "\n",
       "   Dangerous permissions count  Safe permissions count  ...  \\\n",
       "0                         17.0                       8  ...   \n",
       "1                          0.0                       0  ...   \n",
       "2                          0.0                       0  ...   \n",
       "\n",
       "   Your personal information : read Browser's history and bookmarks (D)  \\\n",
       "0                                                  0                      \n",
       "1                                                  0                      \n",
       "2                                                  0                      \n",
       "\n",
       "   Your personal information : read calendar events (D)  \\\n",
       "0                                                  0      \n",
       "1                                                  0      \n",
       "2                                                  0      \n",
       "\n",
       "   Your personal information : read contact data (D)  \\\n",
       "0                                                  1   \n",
       "1                                                  0   \n",
       "2                                                  0   \n",
       "\n",
       "   Your personal information : read sensitive log data (D)  \\\n",
       "0                                                  0         \n",
       "1                                                  0         \n",
       "2                                                  0         \n",
       "\n",
       "   Your personal information : read user defined dictionary (D)  \\\n",
       "0                                                  0              \n",
       "1                                                  0              \n",
       "2                                                  0              \n",
       "\n",
       "   Your personal information : retrieve system internal state (S)  \\\n",
       "0                                                  0                \n",
       "1                                                  0                \n",
       "2                                                  0                \n",
       "\n",
       "   Your personal information : set alarm in alarm clock (S)  \\\n",
       "0                                                  0          \n",
       "1                                                  0          \n",
       "2                                                  0          \n",
       "\n",
       "   Your personal information : write Browser's history and bookmarks (D)  \\\n",
       "0                                                  0                       \n",
       "1                                                  0                       \n",
       "2                                                  0                       \n",
       "\n",
       "   Your personal information : write contact data (D)  \\\n",
       "0                                                  1    \n",
       "1                                                  0    \n",
       "2                                                  0    \n",
       "\n",
       "   Your personal information : write to user defined dictionary (S)  \n",
       "0                                                  0                 \n",
       "1                                                  0                 \n",
       "2                                                  0                 \n",
       "\n",
       "[3 rows x 183 columns]"
      ]
     },
     "execution_count": 11,
     "metadata": {},
     "output_type": "execute_result"
    }
   ],
   "source": [
    "df.head(n=3)"
   ]
  },
  {
   "cell_type": "markdown",
   "metadata": {},
   "source": [
    "### Part B: Convert each app into a \"document\" [0 points]\n",
    "\n",
    "The code below does the following:\n",
    "\n",
    "   * Filter out all the columns except the permission columns.\n",
    "   * Convert this dataframe into a numpy matrix.\n",
    "\n",
    "There are thus 180295 apps (documents) and 173 permissions (words).\n",
    "\n",
    "   - `X` is the \"document\" or \"word-frequency\" matrix.\n",
    "   - `permission_columns` contains the words ordered by their column index in X.\n",
    "   - `app_names` contains the application names ordered by their row index in X.\n",
    "   - `app_ratings` contains the *number* of application ratings (not the ratings themselves)."
   ]
  },
  {
   "cell_type": "code",
   "execution_count": 12,
   "metadata": {},
   "outputs": [],
   "source": [
    "permission_columns = list(df.columns[10:])\n",
    "app_names = list(df[\"App\"])\n",
    "app_ratings = np.array(df[\"Number of ratings\"])\n",
    "df_perms = df[permission_columns]\n",
    "X = df_perms.values\n",
    "del df # uncomment to free up RAM\n",
    "del df_perms # uncomment to free up RAM"
   ]
  },
  {
   "cell_type": "markdown",
   "metadata": {},
   "source": [
    "### Part C: Downweight \"stopwords\" [2.5 points]\n",
    "\n",
    "There are some permissions requested by almost all applications (like \"INTERNET\"), they are similar to stop-words (\"the\", \"and\", etc.) in natural language. We can downweight them by TF-IDF normalization.\n",
    "\n",
    "   * Use the `TfidfTransformer` class in `scikit-learn` to transform X."
   ]
  },
  {
   "cell_type": "code",
   "execution_count": 13,
   "metadata": {},
   "outputs": [],
   "source": [
    "########################################################################\n",
    "######################### Write your code here #########################\n",
    "########################################################################\n",
    "from sklearn.feature_extraction.text import TfidfTransformer\n",
    "\n",
    "vectorizer = TfidfTransformer()\n",
    "X_trans = vectorizer.fit_transform(X)"
   ]
  },
  {
   "cell_type": "markdown",
   "metadata": {},
   "source": [
    "### Part D: Discover 10 \"topics\" [2.5 points]\n",
    "\n",
    "   * Use the `LatentDirichletAllocation` class in `scikit-learn` to fit 10 topics to the data.\n",
    "   * Use 10 max iterations, set `n_jobs=-1` to use all cores on your machine (if it helps).\n",
    "   * Feel free to understand and play around with other parameters.\n",
    "   * This may take around 3 minutes to run."
   ]
  },
  {
   "cell_type": "code",
   "execution_count": 14,
   "metadata": {},
   "outputs": [
    {
     "name": "stdout",
     "output_type": "stream",
     "text": [
      "CPU times: user 8.65 s, sys: 762 ms, total: 9.41 s\n",
      "Wall time: 2min 40s\n"
     ]
    },
    {
     "data": {
      "text/plain": [
       "LatentDirichletAllocation(n_jobs=-1, random_state=0)"
      ]
     },
     "execution_count": 14,
     "metadata": {},
     "output_type": "execute_result"
    }
   ],
   "source": [
    "%%time\n",
    "########################################################################\n",
    "######################### Write your code here #########################\n",
    "########################################################################\n",
    "from sklearn.decomposition import LatentDirichletAllocation\n",
    "\n",
    "num_topics = 10\n",
    "lda = LatentDirichletAllocation(n_components=num_topics, random_state=0, n_jobs=-1, max_iter=10)\n",
    "lda.fit(X_trans)"
   ]
  },
  {
   "cell_type": "markdown",
   "metadata": {},
   "source": [
    "Now each app can be viewed as a distribution over these 10 topics, and each topic is a distribution over all the permissions in the data."
   ]
  },
  {
   "cell_type": "markdown",
   "metadata": {},
   "source": [
    "### Part E: List the top 10 \"words\" in each topic [15 points]\n",
    "\n",
    "Do any of the topics correspond to meaningful app \"purposes\"? List the ones you find meaningful below:\n",
    "\n",
    "   * Topic #i: \"your interpretation\""
   ]
  },
  {
   "cell_type": "code",
   "execution_count": 15,
   "metadata": {
    "scrolled": true
   },
   "outputs": [
    {
     "name": "stdout",
     "output_type": "stream",
     "text": [
      "[Topic 0]\n",
      "Your location : coarse (network-based) location (D) : 0.25263653565583427\n",
      "Your location : fine (GPS) location (D) : 0.24252720873391073\n",
      "Network communication : full Internet access (D) : 0.15199326092068594\n",
      "Network communication : view network state (S) : 0.10141803527778044\n",
      "Phone calls : read phone state and identity (D) : 0.08185838560381938\n",
      "Storage : modify/delete USB storage contents modify/delete SD card contents (D) : 0.06379643094513857\n",
      "Services that cost you money : directly call phone numbers (D) : 0.051092697118316786\n",
      "Network communication : view Wi-Fi state (S) : 0.026962007867490183\n",
      "Your personal information : read sensitive log data (D) : 0.02158493529798257\n",
      "Hardware controls : test hardware (S) : 0.0021507584583803823\n",
      "\n",
      "[Topic 1]\n",
      "Hardware controls : control vibrator (S) : 0.43315286583604024\n",
      "Network communication : full Internet access (D) : 0.14102352919735206\n",
      "Network communication : view network state (S) : 0.09436993211549445\n",
      "Storage : modify/delete USB storage contents modify/delete SD card contents (D) : 0.06599385738634704\n",
      "System tools : disable keylock (D) : 0.05941349291754594\n",
      "Phone calls : read phone state and identity (D) : 0.05599749272375291\n",
      "System tools : prevent device from sleeping (D) : 0.032426001505606504\n",
      "Hardware controls : change your audio settings (D) : 0.029970682856495907\n",
      "Default : modify battery statistics (S) : 0.020710427260728498\n",
      "System tools : modify global system settings (D) : 0.020120306763175565\n",
      "\n",
      "[Topic 2]\n",
      "Network communication : full Internet access (D) : 0.7022537758164954\n",
      "Network communication : view network state (S) : 0.2972182060217093\n",
      "Your accounts : Google Finance (D) : 5.917122115397626e-05\n",
      "Your personal information : read contact data (D) : 2.7579282970267895e-06\n",
      "System tools : modify global system settings (D) : 2.757926207089607e-06\n",
      "Your accounts : view configured accounts (S) : 2.7579261884074546e-06\n",
      "Your accounts : discover known accounts (S) : 2.757925458489365e-06\n",
      "Services that cost you money : send SMS messages (D) : 2.757924342934807e-06\n",
      "Your messages : receive SMS (D) : 2.7579235786046097e-06\n",
      "Your accounts : use the authentication credentials of an account (D) : 2.7579235285124847e-06\n",
      "\n",
      "[Topic 3]\n",
      "Your accounts : discover known accounts (S) : 0.1311498925824067\n",
      "Default : directly install applications (S) : 0.05118139582852227\n",
      "Your accounts : use the authentication credentials of an account (D) : 0.04283499945958365\n",
      "Storage : modify/delete USB storage contents modify/delete SD card contents (D) : 0.039620010500624955\n",
      "Network communication : view network state (S) : 0.03703364560283671\n",
      "Network communication : full Internet access (D) : 0.033028568946383084\n",
      "System tools : prevent device from sleeping (D) : 0.030300873281315827\n",
      "Your accounts : manage the accounts list (D) : 0.02750004089076454\n",
      "Default : delete applications (S) : 0.025954472925627803\n",
      "Phone calls : read phone state and identity (D) : 0.024026690607740007\n",
      "\n",
      "[Topic 4]\n",
      "System tools : prevent device from sleeping (D) : 0.32940818315895787\n",
      "Network communication : full Internet access (D) : 0.11269561045608933\n",
      "System tools : automatically start at boot (S) : 0.10605020728003677\n",
      "Storage : modify/delete USB storage contents modify/delete SD card contents (D) : 0.10525506569177955\n",
      "Network communication : view network state (S) : 0.10203461918739219\n",
      "Phone calls : read phone state and identity (D) : 0.08020751444384608\n",
      "Hardware controls : control vibrator (S) : 0.07747416679828584\n",
      "System tools : change your UI settings (D) : 0.030417697154073706\n",
      "System tools : set wallpaper size hints (S) : 0.02206163330939375\n",
      "System tools : set wallpaper (S) : 0.017177702306959818\n",
      "\n",
      "[Topic 5]\n",
      "Storage : modify/delete USB storage contents modify/delete SD card contents (D) : 0.37108798424395667\n",
      "System tools : set wallpaper (S) : 0.19803578794974666\n",
      "Network communication : full Internet access (D) : 0.18897134994271217\n",
      "Network communication : view network state (S) : 0.1459791825519657\n",
      "Phone calls : read phone state and identity (D) : 0.07154383354750998\n",
      "System tools : mount and unmount filesystems (D) : 0.010513207750096298\n",
      "Network communication : view Wi-Fi state (S) : 0.010401533859227543\n",
      "Default : bind to a wallpaper (S) : 0.0027733403509062685\n",
      "Default : discover known accounts (S) : 3.854096780148966e-05\n",
      "Default : write instant messages (S) : 2.1539782701893402e-05\n",
      "\n",
      "[Topic 6]\n",
      "Hardware controls : take pictures and videos (D) : 0.16261570629362232\n",
      "Hardware controls : record audio (D) : 0.0766894469211298\n",
      "Storage : modify/delete USB storage contents modify/delete SD card contents (D) : 0.07625583876660574\n",
      "Your location : fine (GPS) location (D) : 0.06848483244189485\n",
      "Network communication : full Internet access (D) : 0.06001490504185146\n",
      "Your location : coarse (network-based) location (D) : 0.059915822762451734\n",
      "Network communication : view network state (S) : 0.052905863299568034\n",
      "Hardware controls : control vibrator (S) : 0.052133491274511855\n",
      "Your location : access extra location provider commands (S) : 0.048622284925743865\n",
      "Phone calls : read phone state and identity (D) : 0.04366834428622806\n",
      "\n",
      "[Topic 7]\n",
      "Phone calls : read phone state and identity (D) : 0.20865005633212297\n",
      "Network communication : view Wi-Fi state (S) : 0.19317811960412162\n",
      "Network communication : view network state (S) : 0.1418554284772559\n",
      "Network communication : full Internet access (D) : 0.1413534542331479\n",
      "Storage : modify/delete USB storage contents modify/delete SD card contents (D) : 0.0666783799432395\n",
      "System tools : change Wi-Fi state (D) : 0.052923879191613774\n",
      "System tools : kill background processes (S) : 0.05195702145383165\n",
      "Network communication : create Bluetooth connections (D) : 0.036769899277953697\n",
      "System tools : bluetooth administration (D) : 0.030759326709813843\n",
      "System tools : change network connectivity (D) : 0.027998922128549448\n",
      "\n",
      "[Topic 8]\n",
      "System tools : retrieve running applications (D) : 0.12565803666539618\n",
      "Network communication : receive data from Internet (S) : 0.09168678425300997\n",
      "Services that cost you money : directly call phone numbers (D) : 0.08795186452140119\n",
      "Phone calls : read phone state and identity (D) : 0.08787410969762605\n",
      "Network communication : view network state (S) : 0.08381816625765062\n",
      "Network communication : full Internet access (D) : 0.08312522241391036\n",
      "Storage : modify/delete USB storage contents modify/delete SD card contents (D) : 0.06616101955066189\n",
      "System tools : prevent device from sleeping (D) : 0.05392824630165657\n",
      "Hardware controls : control vibrator (S) : 0.0520570951757461\n",
      "Your location : fine (GPS) location (D) : 0.04960687885043327\n",
      "\n",
      "[Topic 9]\n",
      "Your personal information : read contact data (D) : 0.12824396608890826\n",
      "Services that cost you money : send SMS messages (D) : 0.08421558437002966\n",
      "System tools : modify global system settings (D) : 0.0663186713717039\n",
      "Phone calls : read phone state and identity (D) : 0.0519650628798403\n",
      "Your messages : receive SMS (D) : 0.050443446799649204\n",
      "Network communication : full Internet access (D) : 0.04215279406359202\n",
      "Your personal information : write contact data (D) : 0.04104333420962122\n",
      "Phone calls : intercept outgoing calls (D) : 0.0389068748466359\n",
      "Your messages : read SMS or MMS (D) : 0.038842045191871316\n",
      "System tools : automatically start at boot (S) : 0.03785457372079102\n",
      "\n"
     ]
    }
   ],
   "source": [
    "########################################################################\n",
    "######################### Write your code here #########################\n",
    "########################################################################\n",
    "num_top_words = 10\n",
    "topic_word_dist = np.array([row / row.sum() for row in lda.components_])\n",
    "for topic_idx in range(num_topics):\n",
    "    print('[Topic ', topic_idx, ']', sep='')\n",
    "    sort_indices = np.argsort(-topic_word_dist[topic_idx])\n",
    "    for rank in range(num_top_words):\n",
    "        word_idx = sort_indices[rank]\n",
    "        print(permission_columns[word_idx], \":\", topic_word_dist[topic_idx, word_idx])\n",
    "    print()"
   ]
  },
  {
   "cell_type": "markdown",
   "metadata": {},
   "source": [
    "*** WRITE YOUR ANSWER HERE IN TEXT ***\n",
    "Topic 2: applicatoins that has payment functionalities.\n",
    "Topic 5: maybe chat applications\n"
   ]
  },
  {
   "cell_type": "markdown",
   "metadata": {},
   "source": [
    "### Part F: For each topic, list the top 3 apps with at least 100000 ratings having the highest probability assigned to that topic [15 points]\n",
    "\n",
    "   - This further helps us understand what the topics actually mean.\n",
    "   - However, the data is noisy and this exercise may result in listing a bunch of obscure apps.\n",
    "   - Hence, filtering out all apps with less than 100000 ratings may help."
   ]
  },
  {
   "cell_type": "code",
   "execution_count": 16,
   "metadata": {},
   "outputs": [
    {
     "name": "stdout",
     "output_type": "stream",
     "text": [
      "[Topic 0]\n",
      "Dictionary.com : 0.7169209884462354\n",
      "Air Control Lite : 0.7169209884462354\n",
      "Paper Toss : 0.6935381403208715\n",
      "\n",
      "[Topic 1]\n",
      "Live Holdem Poker Pro : 0.7166983183679115\n",
      "Vaulty Free Hides Pictures : 0.7166983183679115\n",
      "Bubble Blast 2 : 0.6932401124059416\n",
      "\n",
      "[Topic 2]\n",
      "Angry Birds Seasons : 0.6247330077338598\n",
      "Yoo Ninja! Free : 0.6247330077338598\n",
      "Adobe Reader : 0.549969102236762\n",
      "\n",
      "[Topic 3]\n",
      "Lookout Security & Antivirus : 0.8569163447537493\n",
      "Antivirus Free : 0.8544503907474101\n",
      "WhatsApp Messenger : 0.8455299046384344\n",
      "\n",
      "[Topic 4]\n",
      "Real BlackJack : 0.7163520872799772\n",
      "Alchemy : 0.7154622330070897\n",
      "Tank Hero : 0.7153334203786537\n",
      "\n",
      "[Topic 5]\n",
      "World Newspapers : 0.6962019779666523\n",
      "Paradise Island : 0.6962019779666523\n",
      "My Country : 0.6962019779666523\n",
      "\n",
      "[Topic 6]\n",
      "Brightest Flashlight Free™ : 0.7624657178487542\n",
      "Brightest Flashlight Free??? : 0.7624657178487542\n",
      "Tiny Flashlight + LED : 0.749671949061801\n",
      "\n",
      "[Topic 7]\n",
      "Slice It! : 0.7208911879160542\n",
      "Racing Moto : 0.6877727024108419\n",
      "ES File Explorer : 0.6734684302402499\n",
      "\n",
      "[Topic 8]\n",
      "TuneIn Radio : 0.7434436411344\n",
      "Restaurant Story™ : 0.7273352135408492\n",
      "Restaurant Story??? : 0.7273352135408492\n",
      "\n",
      "[Topic 9]\n",
      "chompSMS : 0.7826963715764077\n",
      "Ringdroid : 0.7072961793955519\n",
      "Google Sky Map : 0.7062778399267382\n",
      "\n"
     ]
    }
   ],
   "source": [
    "########################################################################\n",
    "######################### Write your code here #########################\n",
    "########################################################################\n",
    "num_top_apps = 3\n",
    "doc_topic_matrix = lda.transform(X_trans)\n",
    "filtered_apps = [app for app, num in zip(app_names, app_ratings) if num >= 100000]\n",
    "filtered_doc_topic = np.array([dist for dist, num in zip(doc_topic_matrix, app_ratings) if num >= 100000])\n",
    "for topic_idx in range(num_topics):\n",
    "    print('[Topic ', topic_idx, ']', sep='')\n",
    "    topic_doc_array = np.array([filtered_doc_topic[i, topic_idx] for i in range(len(filtered_doc_topic))])\n",
    "    sort_indices = np.argsort(-topic_doc_array)\n",
    "    for rank in range(num_top_apps):\n",
    "        word_idx = sort_indices[rank]\n",
    "        print(filtered_apps[word_idx], \":\", topic_doc_array[word_idx])\n",
    "    print()"
   ]
  },
  {
   "cell_type": "markdown",
   "metadata": {},
   "source": [
    "### Part G: Visualize the document-topic proportion matrix in 2-D using t-SNE [10 points]\n",
    "\n",
    "Does our reduced dimensional space contain any structure? Visualize the documents (in the topic-space) using t-SNE.\n",
    "\n",
    "   * Use `TSNE` from `scikit-learn`.\n",
    "   * Set the angle to 0.99 and init to 'PCA'. Pick any learning rate that gives you a visually pleasing result.\n",
    "   * You may `fit` TSNE to a sample of the data (>1000 documents) instead of the full data.\n",
    "   * Remember to call `fit_transform` to obtain your 2-D data.\n",
    "   * Plot the t-SNE dimensions as a scatterplot.\n",
    "   * Color each point based on its most probable topic. Make sure you include a legend (10 colors).\n",
    "   \n",
    "Clusters in the t-SNE plot indicate groups of apps that have similar topics."
   ]
  },
  {
   "cell_type": "code",
   "execution_count": 34,
   "metadata": {
    "scrolled": false
   },
   "outputs": [
    {
     "name": "stderr",
     "output_type": "stream",
     "text": [
      "/Users/zhihanli/opt/anaconda3/lib/python3.9/site-packages/sklearn/manifold/_t_sne.py:790: FutureWarning: The default learning rate in TSNE will change from 200.0 to 'auto' in 1.2.\n",
      "  warnings.warn(\n",
      "/Users/zhihanli/opt/anaconda3/lib/python3.9/site-packages/sklearn/manifold/_t_sne.py:982: FutureWarning: The PCA initialization in TSNE will change to have the standard deviation of PC1 equal to 1e-4 in 1.2. This will ensure better convergence.\n",
      "  warnings.warn(\n",
      "No artists with labels found to put in legend.  Note that artists whose label start with an underscore are ignored when legend() is called with no argument.\n"
     ]
    },
    {
     "name": "stdout",
     "output_type": "stream",
     "text": [
      "CPU times: user 48 s, sys: 1.01 s, total: 49 s\n",
      "Wall time: 13.8 s\n"
     ]
    },
    {
     "data": {
      "text/plain": [
       "(-81.75561180114747, 117.56828727722169, -113.6191177368164, 79.56200408935547)"
      ]
     },
     "execution_count": 34,
     "metadata": {},
     "output_type": "execute_result"
    },
    {
     "data": {
      "image/png": "[encoded data removed]",
      "text/plain": [
       "<Figure size 432x288 with 1 Axes>"
      ]
     },
     "metadata": {
      "needs_background": "light"
     },
     "output_type": "display_data"
    }
   ],
   "source": [
    "%%time\n",
    "########################################################################\n",
    "######################### Write your code here #########################\n",
    "########################################################################\n",
    "from sklearn.manifold import TSNE\n",
    "\n",
    "#random sampling\n",
    "np.random.seed(0)\n",
    "sample = np.random.permutation(doc_topic_matrix.shape[0])[:5000]\n",
    "\n",
    "tsne = TSNE(n_components=2, random_state=0, angle=0.99, init='pca')\n",
    "doc_topic_2d = tsne.fit_transform(doc_topic_matrix[sample])\n",
    "\n",
    "most_prob_color = [np.argsort(-doc_topic_matrix[sample][i])[0] for i in range(len(sample))]\n",
    "plt.scatter(doc_topic_2d[:, 0], doc_topic_2d[:, 1], c=most_prob_color, cmap='Set3')\n",
    "plt.legend()\n",
    "plt.axis('equal')"
   ]
  },
  {
   "cell_type": "markdown",
   "metadata": {},
   "source": [
    "## Question 3: Questionnaire [5 points]\n",
    "\n",
    "Please answer this survey after you have done this homework: https://forms.gle/vXbmEehDByuxtgCG9"
   ]
  }
 ],
 "metadata": {
  "kernelspec": {
   "display_name": "Python 3 (ipykernel)",
   "language": "python",
   "name": "python3"
  },
  "language_info": {
   "codemirror_mode": {
    "name": "ipython",
    "version": 3
   },
   "file_extension": ".py",
   "mimetype": "text/x-python",
   "name": "python",
   "nbconvert_exporter": "python",
   "pygments_lexer": "ipython3",
   "version": "3.9.12"
  }
 },
 "nbformat": 4,
 "nbformat_minor": 2
}
